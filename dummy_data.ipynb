{
 "cells": [
  {
   "cell_type": "code",
   "execution_count": 1,
   "metadata": {},
   "outputs": [],
   "source": [
    "import pandas as pd\n",
    "import numpy as np"
   ]
  },
  {
   "cell_type": "code",
   "execution_count": 2,
   "metadata": {},
   "outputs": [],
   "source": [
    "df = pd.read_csv(\"data/dataset.csv\")"
   ]
  },
  {
   "cell_type": "code",
   "execution_count": 3,
   "metadata": {},
   "outputs": [
    {
     "name": "stderr",
     "output_type": "stream",
     "text": [
      "/tmp/ipykernel_6635/1972901166.py:5: FutureWarning: The behavior of DataFrame concatenation with empty or all-NA entries is deprecated. In a future version, this will no longer exclude empty or all-NA columns when determining the result dtypes. To retain the old behavior, exclude the relevant entries before the concat operation.\n",
      "  df = pd.concat([df_click,df_no_click], axis=0)\n"
     ]
    }
   ],
   "source": [
    "# some rows don't have click\n",
    "df_no_click = df.sample(300)\n",
    "df_click = df[~df[\"ImpressionID\"].isin(df_no_click[\"ImpressionID\"])]\n",
    "df_no_click[[\"ClickID\",\"ClickPosition\",\"ClickCost\"]] = None\n",
    "df = pd.concat([df_click,df_no_click], axis=0)"
   ]
  },
  {
   "cell_type": "code",
   "execution_count": 10,
   "metadata": {},
   "outputs": [],
   "source": [
    "df[\"ImpressionID\"] = df[\"ImpressionID\"].astype(\"str\").str.replace('imp', '').astype(\"int\")\n",
    "df[\"UserID\"] = df[\"UserID\"].astype(\"str\").str.replace('user', '').astype(\"int\")\n",
    "df[\"SessionID\"] = df[\"SessionID\"].astype(\"str\").str.replace('sess', '').astype(\"int\")\n",
    "df[\"AdID\"] = df[\"AdID\"].astype(\"str\").str.replace('ad', '').astype(\"int\")"
   ]
  },
  {
   "cell_type": "code",
   "execution_count": 11,
   "metadata": {},
   "outputs": [
    {
     "data": {
      "text/html": [
       "<div>\n",
       "<style scoped>\n",
       "    .dataframe tbody tr th:only-of-type {\n",
       "        vertical-align: middle;\n",
       "    }\n",
       "\n",
       "    .dataframe tbody tr th {\n",
       "        vertical-align: top;\n",
       "    }\n",
       "\n",
       "    .dataframe thead th {\n",
       "        text-align: right;\n",
       "    }\n",
       "</style>\n",
       "<table border=\"1\" class=\"dataframe\">\n",
       "  <thead>\n",
       "    <tr style=\"text-align: right;\">\n",
       "      <th></th>\n",
       "      <th>ImpressionID</th>\n",
       "      <th>UserID</th>\n",
       "      <th>SessionID</th>\n",
       "      <th>AdID</th>\n",
       "      <th>AdCategory</th>\n",
       "      <th>Timestamp</th>\n",
       "      <th>Device</th>\n",
       "      <th>OS</th>\n",
       "      <th>Browser</th>\n",
       "      <th>Location</th>\n",
       "      <th>PageID</th>\n",
       "      <th>Referrer</th>\n",
       "      <th>ImpressionCost</th>\n",
       "      <th>ClickID</th>\n",
       "      <th>ClickPosition</th>\n",
       "      <th>ClickCost</th>\n",
       "    </tr>\n",
       "  </thead>\n",
       "  <tbody>\n",
       "    <tr>\n",
       "      <th>0</th>\n",
       "      <td>0</td>\n",
       "      <td>94</td>\n",
       "      <td>134</td>\n",
       "      <td>36</td>\n",
       "      <td>Services</td>\n",
       "      <td>2023-01-15 14:24:02</td>\n",
       "      <td>Mobile</td>\n",
       "      <td>macOS</td>\n",
       "      <td>Firefox</td>\n",
       "      <td>Germany</td>\n",
       "      <td>page25</td>\n",
       "      <td>Google</td>\n",
       "      <td>1.192770</td>\n",
       "      <td>0</td>\n",
       "      <td>Popup</td>\n",
       "      <td>0.801100</td>\n",
       "    </tr>\n",
       "    <tr>\n",
       "      <th>5</th>\n",
       "      <td>5</td>\n",
       "      <td>15</td>\n",
       "      <td>135</td>\n",
       "      <td>48</td>\n",
       "      <td>Apparel</td>\n",
       "      <td>2023-01-21 04:28:40</td>\n",
       "      <td>Tablet</td>\n",
       "      <td>macOS</td>\n",
       "      <td>Firefox</td>\n",
       "      <td>China</td>\n",
       "      <td>page40</td>\n",
       "      <td>Twitter</td>\n",
       "      <td>0.021859</td>\n",
       "      <td>5</td>\n",
       "      <td>Sidebar</td>\n",
       "      <td>1.458645</td>\n",
       "    </tr>\n",
       "    <tr>\n",
       "      <th>6</th>\n",
       "      <td>6</td>\n",
       "      <td>70</td>\n",
       "      <td>80</td>\n",
       "      <td>22</td>\n",
       "      <td>Education</td>\n",
       "      <td>2023-11-06 11:08:04</td>\n",
       "      <td>Mobile</td>\n",
       "      <td>Linux</td>\n",
       "      <td>Edge</td>\n",
       "      <td>India</td>\n",
       "      <td>page83</td>\n",
       "      <td>Twitter</td>\n",
       "      <td>1.344161</td>\n",
       "      <td>6</td>\n",
       "      <td>Header</td>\n",
       "      <td>1.284740</td>\n",
       "    </tr>\n",
       "    <tr>\n",
       "      <th>11</th>\n",
       "      <td>11</td>\n",
       "      <td>27</td>\n",
       "      <td>112</td>\n",
       "      <td>37</td>\n",
       "      <td>Services</td>\n",
       "      <td>2023-11-15 19:52:45</td>\n",
       "      <td>Desktop</td>\n",
       "      <td>macOS</td>\n",
       "      <td>Safari</td>\n",
       "      <td>Germany</td>\n",
       "      <td>page33</td>\n",
       "      <td>Twitter</td>\n",
       "      <td>0.644350</td>\n",
       "      <td>11</td>\n",
       "      <td>Sidebar</td>\n",
       "      <td>0.707757</td>\n",
       "    </tr>\n",
       "    <tr>\n",
       "      <th>14</th>\n",
       "      <td>14</td>\n",
       "      <td>52</td>\n",
       "      <td>142</td>\n",
       "      <td>24</td>\n",
       "      <td>Entertainment</td>\n",
       "      <td>2023-09-23 06:04:22</td>\n",
       "      <td>Tablet</td>\n",
       "      <td>Windows</td>\n",
       "      <td>Opera</td>\n",
       "      <td>Australia</td>\n",
       "      <td>page77</td>\n",
       "      <td>Google</td>\n",
       "      <td>0.567404</td>\n",
       "      <td>14</td>\n",
       "      <td>Footer</td>\n",
       "      <td>0.717857</td>\n",
       "    </tr>\n",
       "  </tbody>\n",
       "</table>\n",
       "</div>"
      ],
      "text/plain": [
       "    ImpressionID  UserID  SessionID  AdID     AdCategory            Timestamp  \\\n",
       "0              0      94        134    36       Services  2023-01-15 14:24:02   \n",
       "5              5      15        135    48        Apparel  2023-01-21 04:28:40   \n",
       "6              6      70         80    22      Education  2023-11-06 11:08:04   \n",
       "11            11      27        112    37       Services  2023-11-15 19:52:45   \n",
       "14            14      52        142    24  Entertainment  2023-09-23 06:04:22   \n",
       "\n",
       "     Device       OS  Browser   Location  PageID Referrer  ImpressionCost  \\\n",
       "0    Mobile    macOS  Firefox    Germany  page25   Google        1.192770   \n",
       "5    Tablet    macOS  Firefox      China  page40  Twitter        0.021859   \n",
       "6    Mobile    Linux     Edge      India  page83  Twitter        1.344161   \n",
       "11  Desktop    macOS   Safari    Germany  page33  Twitter        0.644350   \n",
       "14   Tablet  Windows    Opera  Australia  page77   Google        0.567404   \n",
       "\n",
       "   ClickID ClickPosition  ClickCost  \n",
       "0        0         Popup   0.801100  \n",
       "5        5       Sidebar   1.458645  \n",
       "6        6        Header   1.284740  \n",
       "11      11       Sidebar   0.707757  \n",
       "14      14        Footer   0.717857  "
      ]
     },
     "execution_count": 11,
     "metadata": {},
     "output_type": "execute_result"
    }
   ],
   "source": [
    "df.head()"
   ]
  },
  {
   "cell_type": "code",
   "execution_count": 12,
   "metadata": {},
   "outputs": [],
   "source": [
    "df_impression = df[[\"ImpressionID\",\"UserID\",\"SessionID\", \"AdID\",\"AdCategory\",\"Device\",\"OS\", \"Browser\", \"Location\", \"PageID\",\"Referrer\",\"ImpressionCost\"]]\n",
    "df_click = df[[\"ImpressionID\",\"ClickID\",\"ClickPosition\", \"ClickCost\"]]\n",
    "df_click = df_click.dropna(subset=[\"ImpressionID\",\"ClickID\",\"ClickPosition\",\"ClickCost\"])"
   ]
  },
  {
   "cell_type": "code",
   "execution_count": 13,
   "metadata": {},
   "outputs": [],
   "source": [
    "df_impression.to_csv(\"data/impression.csv\")\n",
    "df_click.to_csv(\"data/click.csv\")"
   ]
  }
 ],
 "metadata": {
  "kernelspec": {
   "display_name": "kafka-spark-env",
   "language": "python",
   "name": "python3"
  },
  "language_info": {
   "codemirror_mode": {
    "name": "ipython",
    "version": 3
   },
   "file_extension": ".py",
   "mimetype": "text/x-python",
   "name": "python",
   "nbconvert_exporter": "python",
   "pygments_lexer": "ipython3",
   "version": "3.10.12"
  }
 },
 "nbformat": 4,
 "nbformat_minor": 2
}
