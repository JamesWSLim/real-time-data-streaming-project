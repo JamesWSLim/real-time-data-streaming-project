{
 "cells": [
  {
   "cell_type": "code",
   "execution_count": 1,
   "metadata": {},
   "outputs": [],
   "source": [
    "import pandas as pd\n",
    "import numpy as np"
   ]
  },
  {
   "cell_type": "code",
   "execution_count": 2,
   "metadata": {},
   "outputs": [],
   "source": [
    "df = pd.read_csv(\"data/dataset.csv\")"
   ]
  },
  {
   "cell_type": "code",
   "execution_count": 3,
   "metadata": {},
   "outputs": [
    {
     "name": "stderr",
     "output_type": "stream",
     "text": [
      "/tmp/ipykernel_78563/1972901166.py:5: FutureWarning: The behavior of DataFrame concatenation with empty or all-NA entries is deprecated. In a future version, this will no longer exclude empty or all-NA columns when determining the result dtypes. To retain the old behavior, exclude the relevant entries before the concat operation.\n",
      "  df = pd.concat([df_click,df_no_click], axis=0)\n"
     ]
    }
   ],
   "source": [
    "# some rows don't have click\n",
    "df_no_click = df.sample(300)\n",
    "df_click = df[~df[\"ImpressionID\"].isin(df_no_click[\"ImpressionID\"])]\n",
    "df_no_click[[\"ClickID\",\"ClickPosition\",\"ClickCost\"]] = None\n",
    "df = pd.concat([df_click,df_no_click], axis=0)"
   ]
  },
  {
   "cell_type": "code",
   "execution_count": 4,
   "metadata": {},
   "outputs": [
    {
     "data": {
      "text/plain": [
       "ImpressionID       object\n",
       "UserID             object\n",
       "SessionID          object\n",
       "AdID               object\n",
       "AdCategory         object\n",
       "Timestamp          object\n",
       "Device             object\n",
       "OS                 object\n",
       "Browser            object\n",
       "Location           object\n",
       "PageID             object\n",
       "Referrer           object\n",
       "ImpressionCost    float64\n",
       "ClickID            object\n",
       "ClickPosition      object\n",
       "ClickCost         float64\n",
       "dtype: object"
      ]
     },
     "execution_count": 4,
     "metadata": {},
     "output_type": "execute_result"
    }
   ],
   "source": [
    "df.dtypes"
   ]
  },
  {
   "cell_type": "code",
   "execution_count": 5,
   "metadata": {},
   "outputs": [],
   "source": [
    "df.to_csv('data/impression-click.csv', index=False)"
   ]
  },
  {
   "cell_type": "code",
   "execution_count": null,
   "metadata": {},
   "outputs": [],
   "source": []
  }
 ],
 "metadata": {
  "kernelspec": {
   "display_name": "kafka-spark-env",
   "language": "python",
   "name": "python3"
  },
  "language_info": {
   "codemirror_mode": {
    "name": "ipython",
    "version": 3
   },
   "file_extension": ".py",
   "mimetype": "text/x-python",
   "name": "python",
   "nbconvert_exporter": "python",
   "pygments_lexer": "ipython3",
   "version": "3.10.12"
  }
 },
 "nbformat": 4,
 "nbformat_minor": 2
}
