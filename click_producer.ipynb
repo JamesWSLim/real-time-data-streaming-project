{
 "cells": [
  {
   "cell_type": "code",
   "execution_count": 9,
   "metadata": {},
   "outputs": [],
   "source": [
    "import pandas as pd\n",
    "from kafka import KafkaProducer\n",
    "import json\n",
    "import time\n",
    "import random\n",
    "import datetime"
   ]
  },
  {
   "cell_type": "code",
   "execution_count": 10,
   "metadata": {},
   "outputs": [],
   "source": [
    "producer = KafkaProducer(bootstrap_servers=['localhost:9092'],\n",
    "                         value_serializer=lambda x: json.dumps(x).encode('utf-8'))"
   ]
  },
  {
   "cell_type": "code",
   "execution_count": 11,
   "metadata": {},
   "outputs": [],
   "source": [
    "df_click = pd.read_csv(\"data/click.csv\")\n",
    "df_click = df_click[[\"JoinID\",\"ClickID\",\"ClickPosition\", \"ClickCost\"]]"
   ]
  },
  {
   "cell_type": "code",
   "execution_count": 12,
   "metadata": {},
   "outputs": [
    {
     "name": "stdout",
     "output_type": "stream",
     "text": [
      "JoinID                                     1\n",
      "ClickID                               click1\n",
      "ClickPosition                         Footer\n",
      "ClickCost                           0.079446\n",
      "ClickTimestamp    2024-06-24 15:37:33.734018\n",
      "Name: 0, dtype: object\n"
     ]
    },
    {
     "name": "stdout",
     "output_type": "stream",
     "text": [
      "JoinID                                     4\n",
      "ClickID                               click4\n",
      "ClickPosition                         Footer\n",
      "ClickCost                           1.370626\n",
      "ClickTimestamp    2024-06-24 15:38:03.788335\n",
      "Name: 1, dtype: object\n",
      "JoinID                                     7\n",
      "ClickID                               click7\n",
      "ClickPosition                        Sidebar\n",
      "ClickCost                           0.402191\n",
      "ClickTimestamp    2024-06-24 15:38:33.815970\n",
      "Name: 2, dtype: object\n",
      "JoinID                                     8\n",
      "ClickID                               click8\n",
      "ClickPosition                          Popup\n",
      "ClickCost                           1.173821\n",
      "ClickTimestamp    2024-06-24 15:39:03.845390\n",
      "Name: 3, dtype: object\n",
      "JoinID                                     9\n",
      "ClickID                               click9\n",
      "ClickPosition                         Footer\n",
      "ClickCost                           0.102995\n",
      "ClickTimestamp    2024-06-24 15:39:33.874537\n",
      "Name: 4, dtype: object\n",
      "JoinID                                    15\n",
      "ClickID                              click15\n",
      "ClickPosition                        Sidebar\n",
      "ClickCost                           0.362333\n",
      "ClickTimestamp    2024-06-24 15:40:03.903418\n",
      "Name: 5, dtype: object\n",
      "JoinID                                    16\n",
      "ClickID                              click16\n",
      "ClickPosition                         Footer\n",
      "ClickCost                           1.256065\n",
      "ClickTimestamp    2024-06-24 15:40:33.932969\n",
      "Name: 6, dtype: object\n",
      "JoinID                                    17\n",
      "ClickID                              click17\n",
      "ClickPosition                        Sidebar\n",
      "ClickCost                           1.699151\n",
      "ClickTimestamp    2024-06-24 15:41:03.964059\n",
      "Name: 7, dtype: object\n",
      "JoinID                                    20\n",
      "ClickID                              click20\n",
      "ClickPosition                          Popup\n",
      "ClickCost                           1.903163\n",
      "ClickTimestamp    2024-06-24 15:41:34.001099\n",
      "Name: 8, dtype: object\n",
      "JoinID                                    23\n",
      "ClickID                              click23\n",
      "ClickPosition                         Header\n",
      "ClickCost                           0.260823\n",
      "ClickTimestamp    2024-06-24 15:42:04.034101\n",
      "Name: 9, dtype: object\n",
      "JoinID                                    25\n",
      "ClickID                              click25\n",
      "ClickPosition                         Footer\n",
      "ClickCost                           1.464118\n",
      "ClickTimestamp    2024-06-24 15:42:34.068993\n",
      "Name: 10, dtype: object\n",
      "JoinID                                    26\n",
      "ClickID                              click26\n",
      "ClickPosition                         Footer\n",
      "ClickCost                           1.399739\n",
      "ClickTimestamp    2024-06-24 15:43:04.098384\n",
      "Name: 11, dtype: object\n",
      "JoinID                                    30\n",
      "ClickID                              click30\n",
      "ClickPosition                         Banner\n",
      "ClickCost                           0.540596\n",
      "ClickTimestamp    2024-06-24 15:43:34.130164\n",
      "Name: 12, dtype: object\n",
      "JoinID                                    38\n",
      "ClickID                              click38\n",
      "ClickPosition                         Footer\n",
      "ClickCost                           0.444908\n",
      "ClickTimestamp    2024-06-24 15:44:04.157976\n",
      "Name: 13, dtype: object\n",
      "JoinID                                    39\n",
      "ClickID                              click39\n",
      "ClickPosition                         Header\n",
      "ClickCost                           1.445183\n",
      "ClickTimestamp    2024-06-24 15:44:34.185927\n",
      "Name: 14, dtype: object\n",
      "JoinID                                    40\n",
      "ClickID                              click40\n",
      "ClickPosition                         Header\n",
      "ClickCost                           1.827783\n",
      "ClickTimestamp    2024-06-24 15:45:04.212463\n",
      "Name: 15, dtype: object\n",
      "JoinID                                    42\n",
      "ClickID                              click42\n",
      "ClickPosition                        Sidebar\n",
      "ClickCost                           0.885084\n",
      "ClickTimestamp    2024-06-24 15:45:34.260801\n",
      "Name: 16, dtype: object\n",
      "JoinID                                    43\n",
      "ClickID                              click43\n",
      "ClickPosition                         Footer\n",
      "ClickCost                            1.59408\n",
      "ClickTimestamp    2024-06-24 15:46:04.292514\n",
      "Name: 17, dtype: object\n"
     ]
    },
    {
     "ename": "KeyboardInterrupt",
     "evalue": "",
     "output_type": "error",
     "traceback": [
      "\u001b[0;31m---------------------------------------------------------------------------\u001b[0m",
      "\u001b[0;31mKeyboardInterrupt\u001b[0m                         Traceback (most recent call last)",
      "Cell \u001b[0;32mIn[12], line 8\u001b[0m\n\u001b[1;32m      6\u001b[0m \u001b[38;5;28mprint\u001b[39m(row)\n\u001b[1;32m      7\u001b[0m producer\u001b[38;5;241m.\u001b[39msend(\u001b[38;5;124m'\u001b[39m\u001b[38;5;124mclick-event\u001b[39m\u001b[38;5;124m'\u001b[39m, value\u001b[38;5;241m=\u001b[39mdict_click)\n\u001b[0;32m----> 8\u001b[0m \u001b[43mtime\u001b[49m\u001b[38;5;241;43m.\u001b[39;49m\u001b[43msleep\u001b[49m\u001b[43m(\u001b[49m\u001b[38;5;241;43m30\u001b[39;49m\u001b[43m)\u001b[49m\n",
      "\u001b[0;31mKeyboardInterrupt\u001b[0m: "
     ]
    }
   ],
   "source": [
    "for index, row in df_click.iterrows():\n",
    "    current_timestamp = datetime.datetime.now()\n",
    "    row[\"ClickTimestamp\"] = current_timestamp\n",
    "    row[\"ClickTimestamp\"] = str(row[\"ClickTimestamp\"])\n",
    "    dict_click = row.to_dict()\n",
    "    print(row)\n",
    "    producer.send('click-event', value=dict_click)\n",
    "    time.sleep(30)"
   ]
  }
 ],
 "metadata": {
  "kernelspec": {
   "display_name": "kafka-spark-env",
   "language": "python",
   "name": "python3"
  },
  "language_info": {
   "codemirror_mode": {
    "name": "ipython",
    "version": 3
   },
   "file_extension": ".py",
   "mimetype": "text/x-python",
   "name": "python",
   "nbconvert_exporter": "python",
   "pygments_lexer": "ipython3",
   "version": "3.10.12"
  }
 },
 "nbformat": 4,
 "nbformat_minor": 2
}
