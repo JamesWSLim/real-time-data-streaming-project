{
 "cells": [
  {
   "cell_type": "code",
   "execution_count": 13,
   "metadata": {},
   "outputs": [],
   "source": [
    "import pandas as pd\n",
    "from kafka import KafkaProducer\n",
    "import json\n",
    "import time\n",
    "import random\n",
    "import datetime"
   ]
  },
  {
   "cell_type": "code",
   "execution_count": 14,
   "metadata": {},
   "outputs": [],
   "source": [
    "producer = KafkaProducer(bootstrap_servers=['localhost:9092'],\n",
    "                         value_serializer=lambda x: json.dumps(x).encode('utf-8'))"
   ]
  },
  {
   "cell_type": "code",
   "execution_count": 15,
   "metadata": {},
   "outputs": [],
   "source": [
    "df_click = pd.read_csv(\"data/click.csv\")\n",
    "df_click = df_click[[\"JoinID\",\"ClickID\",\"ClickPosition\", \"ClickCost\"]]"
   ]
  },
  {
   "cell_type": "code",
   "execution_count": 16,
   "metadata": {},
   "outputs": [
    {
     "name": "stdout",
     "output_type": "stream",
     "text": [
      "JoinID                                     1\n",
      "ClickID                               click1\n",
      "ClickPosition                         Footer\n",
      "ClickCost                           0.079446\n",
      "ClickTimestamp    2024-06-26 21:00:58.087701\n",
      "Name: 0, dtype: object\n"
     ]
    },
    {
     "name": "stdout",
     "output_type": "stream",
     "text": [
      "JoinID                                     4\n",
      "ClickID                               click4\n",
      "ClickPosition                         Footer\n",
      "ClickCost                           1.370626\n",
      "ClickTimestamp    2024-06-26 21:01:13.101355\n",
      "Name: 1, dtype: object\n",
      "JoinID                                     7\n",
      "ClickID                               click7\n",
      "ClickPosition                        Sidebar\n",
      "ClickCost                           0.402191\n",
      "ClickTimestamp    2024-06-26 21:01:28.112263\n",
      "Name: 2, dtype: object\n",
      "JoinID                                     8\n",
      "ClickID                               click8\n",
      "ClickPosition                          Popup\n",
      "ClickCost                           1.173821\n",
      "ClickTimestamp    2024-06-26 21:01:43.131124\n",
      "Name: 3, dtype: object\n",
      "JoinID                                     9\n",
      "ClickID                               click9\n",
      "ClickPosition                         Footer\n",
      "ClickCost                           0.102995\n",
      "ClickTimestamp    2024-06-26 21:01:58.141111\n",
      "Name: 4, dtype: object\n",
      "JoinID                                    15\n",
      "ClickID                              click15\n",
      "ClickPosition                        Sidebar\n",
      "ClickCost                           0.362333\n",
      "ClickTimestamp    2024-06-26 21:02:13.159919\n",
      "Name: 5, dtype: object\n",
      "JoinID                                    16\n",
      "ClickID                              click16\n",
      "ClickPosition                         Footer\n",
      "ClickCost                           1.256065\n",
      "ClickTimestamp    2024-06-26 21:02:28.170019\n",
      "Name: 6, dtype: object\n",
      "JoinID                                    17\n",
      "ClickID                              click17\n",
      "ClickPosition                        Sidebar\n",
      "ClickCost                           1.699151\n",
      "ClickTimestamp    2024-06-26 21:02:43.179309\n",
      "Name: 7, dtype: object\n",
      "JoinID                                    20\n",
      "ClickID                              click20\n",
      "ClickPosition                          Popup\n",
      "ClickCost                           1.903163\n",
      "ClickTimestamp    2024-06-26 21:02:58.189133\n",
      "Name: 8, dtype: object\n"
     ]
    }
   ],
   "source": [
    "for index, row in df_click.iterrows():\n",
    "    current_timestamp = datetime.datetime.now()\n",
    "    row[\"ClickTimestamp\"] = current_timestamp\n",
    "    row[\"ClickTimestamp\"] = str(row[\"ClickTimestamp\"])\n",
    "    dict_click = row.to_dict()\n",
    "    print(row)\n",
    "    producer.send('click-event', value=dict_click)\n",
    "    time.sleep(15)"
   ]
  }
 ],
 "metadata": {
  "kernelspec": {
   "display_name": "kafka-spark-env",
   "language": "python",
   "name": "python3"
  },
  "language_info": {
   "codemirror_mode": {
    "name": "ipython",
    "version": 3
   },
   "file_extension": ".py",
   "mimetype": "text/x-python",
   "name": "python",
   "nbconvert_exporter": "python",
   "pygments_lexer": "ipython3",
   "version": "3.10.12"
  }
 },
 "nbformat": 4,
 "nbformat_minor": 2
}
