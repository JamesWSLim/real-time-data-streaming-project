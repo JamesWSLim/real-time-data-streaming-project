{
 "cells": [
  {
   "cell_type": "code",
   "execution_count": 1,
   "metadata": {},
   "outputs": [],
   "source": [
    "import findspark\n",
    "findspark.init()\n",
    "from pyspark.sql.functions import *\n",
    "from pyspark.sql import SparkSession\n",
    "from pyspark.sql.types import FloatType, StringType, StructType, TimestampType, IntegerType\n",
    "import os\n",
    "import psycopg2\n",
    "from sqlalchemy import create_engine\n",
    "import pandas as pd\n",
    "\n",
    "os.environ['PYSPARK_SUBMIT_ARGS'] = '--packages org.apache.spark:spark-streaming-kafka-0-10_2.12:3.2.0,org.apache.spark:spark-sql-kafka-0-10_2.12:3.2.0 pyspark-shell'"
   ]
  },
  {
   "cell_type": "code",
   "execution_count": 2,
   "metadata": {},
   "outputs": [],
   "source": [
    "# JSON Schema\n",
    "impression_schema = StructType() \\\n",
    "    .add('ImpressionID', IntegerType()) \\\n",
    "    .add('UserID', IntegerType()) \\\n",
    "    .add('SessionID', IntegerType()) \\\n",
    "    .add('AdID', IntegerType()) \\\n",
    "    .add('AdCategory', StringType()) \\\n",
    "    .add('ImpressionTimestamp', TimestampType()) \\\n",
    "    .add('OS', StringType()) \\\n",
    "    .add('Browser', StringType()) \\\n",
    "    .add('Location', StringType()) \\\n",
    "    .add('Referrer', StringType()) \\\n",
    "    .add('ImpressionCost', FloatType()) \\\n",
    "\n",
    "click_schema = StructType() \\\n",
    "    .add('ImpressionID', IntegerType()) \\\n",
    "    .add('ClickTimestamp', TimestampType()) \\\n",
    "    .add('ClickID', StringType()) \\\n",
    "    .add('ClickPosition', StringType()) \\\n",
    "    .add('ClickCost', FloatType())"
   ]
  },
  {
   "cell_type": "code",
   "execution_count": 3,
   "metadata": {},
   "outputs": [
    {
     "name": "stderr",
     "output_type": "stream",
     "text": [
      "your 131072x1 screen size is bogus. expect trouble\n",
      "24/06/23 17:17:00 WARN Utils: Your hostname, James-Razerblade resolves to a loopback address: 127.0.1.1; using 192.168.204.183 instead (on interface eth0)\n",
      "24/06/23 17:17:00 WARN Utils: Set SPARK_LOCAL_IP if you need to bind to another address\n"
     ]
    },
    {
     "name": "stdout",
     "output_type": "stream",
     "text": [
      ":: loading settings :: url = jar:file:/home/limws/spark-3.5.1-bin-hadoop3/jars/ivy-2.5.1.jar!/org/apache/ivy/core/settings/ivysettings.xml\n"
     ]
    },
    {
     "name": "stderr",
     "output_type": "stream",
     "text": [
      "Ivy Default Cache set to: /home/limws/.ivy2/cache\n",
      "The jars for the packages stored in: /home/limws/.ivy2/jars\n",
      "org.apache.spark#spark-streaming-kafka-0-10_2.12 added as a dependency\n",
      "org.apache.spark#spark-sql-kafka-0-10_2.12 added as a dependency\n",
      ":: resolving dependencies :: org.apache.spark#spark-submit-parent-82b0c4d9-1be0-4df2-a434-7666c0eba43e;1.0\n",
      "\tconfs: [default]\n",
      "\tfound org.apache.spark#spark-streaming-kafka-0-10_2.12;3.2.0 in central\n",
      "\tfound org.apache.spark#spark-token-provider-kafka-0-10_2.12;3.2.0 in central\n",
      "\tfound org.apache.kafka#kafka-clients;2.8.0 in central\n",
      "\tfound org.lz4#lz4-java;1.7.1 in central\n",
      "\tfound org.xerial.snappy#snappy-java;1.1.8.4 in central\n",
      "\tfound org.slf4j#slf4j-api;1.7.30 in central\n",
      "\tfound org.apache.hadoop#hadoop-client-runtime;3.3.1 in central\n",
      "\tfound org.spark-project.spark#unused;1.0.0 in central\n",
      "\tfound org.apache.hadoop#hadoop-client-api;3.3.1 in central\n",
      "\tfound org.apache.htrace#htrace-core4;4.1.0-incubating in central\n",
      "\tfound commons-logging#commons-logging;1.1.3 in central\n",
      "\tfound com.google.code.findbugs#jsr305;3.0.0 in central\n",
      "\tfound org.apache.spark#spark-sql-kafka-0-10_2.12;3.2.0 in central\n",
      "\tfound org.apache.commons#commons-pool2;2.6.2 in central\n",
      ":: resolution report :: resolve 1034ms :: artifacts dl 16ms\n",
      "\t:: modules in use:\n",
      "\tcom.google.code.findbugs#jsr305;3.0.0 from central in [default]\n",
      "\tcommons-logging#commons-logging;1.1.3 from central in [default]\n",
      "\torg.apache.commons#commons-pool2;2.6.2 from central in [default]\n",
      "\torg.apache.hadoop#hadoop-client-api;3.3.1 from central in [default]\n",
      "\torg.apache.hadoop#hadoop-client-runtime;3.3.1 from central in [default]\n",
      "\torg.apache.htrace#htrace-core4;4.1.0-incubating from central in [default]\n",
      "\torg.apache.kafka#kafka-clients;2.8.0 from central in [default]\n",
      "\torg.apache.spark#spark-sql-kafka-0-10_2.12;3.2.0 from central in [default]\n",
      "\torg.apache.spark#spark-streaming-kafka-0-10_2.12;3.2.0 from central in [default]\n",
      "\torg.apache.spark#spark-token-provider-kafka-0-10_2.12;3.2.0 from central in [default]\n",
      "\torg.lz4#lz4-java;1.7.1 from central in [default]\n",
      "\torg.slf4j#slf4j-api;1.7.30 from central in [default]\n",
      "\torg.spark-project.spark#unused;1.0.0 from central in [default]\n",
      "\torg.xerial.snappy#snappy-java;1.1.8.4 from central in [default]\n",
      "\t---------------------------------------------------------------------\n",
      "\t|                  |            modules            ||   artifacts   |\n",
      "\t|       conf       | number| search|dwnlded|evicted|| number|dwnlded|\n",
      "\t---------------------------------------------------------------------\n",
      "\t|      default     |   14  |   0   |   0   |   0   ||   14  |   0   |\n",
      "\t---------------------------------------------------------------------\n",
      ":: retrieving :: org.apache.spark#spark-submit-parent-82b0c4d9-1be0-4df2-a434-7666c0eba43e\n",
      "\tconfs: [default]\n",
      "\t0 artifacts copied, 14 already retrieved (0kB/11ms)\n",
      "24/06/23 17:17:03 WARN NativeCodeLoader: Unable to load native-hadoop library for your platform... using builtin-java classes where applicable\n",
      "Setting default log level to \"WARN\".\n",
      "To adjust logging level use sc.setLogLevel(newLevel). For SparkR, use setLogLevel(newLevel).\n"
     ]
    }
   ],
   "source": [
    "spark = SparkSession \\\n",
    "    .builder \\\n",
    "    .config(\"spark.jars.packages\", \"org.apache.spark:spark-sql-kafka-0-10_2.12:3.1.2\") \\\n",
    "    .config(\"spark.jars\", \"postgresql-42.7.1.jar\") \\\n",
    "    .appName(\"impression-click-event\") \\\n",
    "    .getOrCreate()"
   ]
  },
  {
   "cell_type": "code",
   "execution_count": 4,
   "metadata": {},
   "outputs": [],
   "source": [
    "impression_df = spark \\\n",
    "  .readStream \\\n",
    "  .format(\"kafka\") \\\n",
    "  .option(\"kafka.bootstrap.servers\", \"localhost:9092\") \\\n",
    "  .option(\"subscribe\", \"impression-event\") \\\n",
    "  .option(\"startingOffsets\", \"latest\") \\\n",
    "  .load()"
   ]
  },
  {
   "cell_type": "code",
   "execution_count": 5,
   "metadata": {},
   "outputs": [],
   "source": [
    "impression_json_df = impression_df.selectExpr(\"cast(value as string) as value\")\n",
    "impression_raw_df = impression_json_df.withColumn(\"value\", from_json(impression_json_df[\"value\"], impression_schema)).select(\"value.*\")\n",
    "impression_raw_df = impression_raw_df.replace(\"\\\"NaN\\\"\", None)"
   ]
  },
  {
   "cell_type": "code",
   "execution_count": 6,
   "metadata": {},
   "outputs": [],
   "source": [
    "click_df = spark \\\n",
    "  .readStream \\\n",
    "  .format(\"kafka\") \\\n",
    "  .option(\"kafka.bootstrap.servers\", \"localhost:9092\") \\\n",
    "  .option(\"subscribe\", \"click-event\") \\\n",
    "  .option(\"startingOffsets\", \"latest\") \\\n",
    "  .load()"
   ]
  },
  {
   "cell_type": "code",
   "execution_count": 7,
   "metadata": {},
   "outputs": [],
   "source": [
    "click_json_df = click_df.selectExpr(\"cast(value as string) as value\")\n",
    "click_raw_df = click_json_df.withColumn(\"value\", from_json(click_json_df[\"value\"], click_schema)).select(\"value.*\")\n",
    "click_raw_df = click_raw_df.replace(\"\\\"NaN\\\"\", None)"
   ]
  },
  {
   "cell_type": "code",
   "execution_count": 8,
   "metadata": {},
   "outputs": [],
   "source": [
    "### apply watermarks on event-time columns\n",
    "impressionsWithWatermark = impression_raw_df.withWatermark(\"ImpressionTimestamp\", \"1 minute\").alias(\"impression\")\n",
    "clicksWithWatermark = click_raw_df.withWatermark(\"ClickTimestamp\", \"1 minute\").alias(\"click\")\n",
    "\n",
    "### stream-stream inner join (no time constraints needed for inner join)\n",
    "joined_stream = impressionsWithWatermark.join(\n",
    "  clicksWithWatermark,\n",
    "  expr(\"\"\"\n",
    "    click.ImpressionID = impression.ImpressionID AND\n",
    "    click.ClickTimestamp >= impression.ImpressionTimestamp AND\n",
    "    click.ClickTimestamp <= impression.ImpressionTimestamp + interval 1 minute\n",
    "    \"\"\"),\n",
    "    \"leftOuter\"\n",
    ")"
   ]
  },
  {
   "cell_type": "code",
   "execution_count": 9,
   "metadata": {},
   "outputs": [
    {
     "name": "stderr",
     "output_type": "stream",
     "text": [
      "24/06/23 17:17:12 WARN ResolveWriteToStream: Temporary checkpoint location created which is deleted normally when the query didn't fail: /tmp/temporary-eb236722-12c7-4dec-88c6-b4c97c25f661. If it's required to delete it under any circumstances, please set spark.sql.streaming.forceDeleteTempCheckpointLocation to true. Important to know deleting temp checkpoint folder is best effort.\n",
      "24/06/23 17:17:12 WARN ResolveWriteToStream: spark.sql.adaptive.enabled is not supported in streaming DataFrames/Datasets and will be disabled.\n"
     ]
    },
    {
     "data": {
      "text/plain": [
       "<pyspark.sql.streaming.query.StreamingQuery at 0x7f4b941b8af0>"
      ]
     },
     "execution_count": 9,
     "metadata": {},
     "output_type": "execute_result"
    }
   ],
   "source": [
    "joined_stream.writeStream \\\n",
    "    .format(\"console\") \\\n",
    "    .start()"
   ]
  },
  {
   "cell_type": "code",
   "execution_count": 10,
   "metadata": {},
   "outputs": [],
   "source": [
    "# conn = psycopg2.connect(\n",
    "#     host=\"localhost\",\n",
    "#     database=\"superset\",\n",
    "#     user=\"superset\",\n",
    "#     password=\"superset\")\n",
    "\n",
    "# sql = \"\"\"DROP TABLE IF EXISTS impression CASCADE\"\"\"\n",
    "# cursor = conn.cursor()\n",
    "# cursor.execute(sql)\n",
    "# conn.commit()"
   ]
  },
  {
   "cell_type": "code",
   "execution_count": 11,
   "metadata": {},
   "outputs": [],
   "source": [
    "# sql = \"\"\"CREATE TABLE impression (\n",
    "#     impressionid TEXT,\n",
    "#     userid TEXT,\n",
    "#     sessionid TEXT,\n",
    "#     adid TEXT,\n",
    "#     adcategory TEXT,\n",
    "#     timestamp TIMESTAMP,\n",
    "#     device TEXT,\n",
    "#     os TEXT,\n",
    "#     browser TEXT,\n",
    "#     location TEXT,\n",
    "#     pageid TEXT,\n",
    "#     referrer TEXT,\n",
    "#     impressioncost DECIMAL,\n",
    "#     clickid TEXT NULL,\n",
    "#     clickposition TEXT NULL,\n",
    "#     clickcost DECIMAL NULL \n",
    "# );\"\"\"\n",
    "# cursor = conn.cursor()\n",
    "# cursor.execute(sql)\n",
    "# conn.commit()"
   ]
  },
  {
   "cell_type": "code",
   "execution_count": 12,
   "metadata": {},
   "outputs": [],
   "source": [
    "# def write_to_postgresql(df,epoch_id):\n",
    "#     df.write \\\n",
    "#     .format('jdbc') \\\n",
    "#     .option(\"url\", \"jdbc:postgresql://localhost:5432/superset\") \\\n",
    "#     .option(\"dbtable\", \"impression\") \\\n",
    "#     .option(\"user\", \"superset\") \\\n",
    "#     .option(\"password\", \"superset\") \\\n",
    "#     .option(\"driver\", \"org.postgresql.Driver\") \\\n",
    "#     .mode('append') \\\n",
    "#     .save()"
   ]
  },
  {
   "cell_type": "code",
   "execution_count": 13,
   "metadata": {},
   "outputs": [
    {
     "name": "stderr",
     "output_type": "stream",
     "text": [
      "24/06/23 17:17:13 WARN AdminClientConfig: The configuration 'key.deserializer' was supplied but isn't a known config.\n",
      "24/06/23 17:17:13 WARN AdminClientConfig: The configuration 'value.deserializer' was supplied but isn't a known config.\n",
      "24/06/23 17:17:13 WARN AdminClientConfig: The configuration 'enable.auto.commit' was supplied but isn't a known config.\n",
      "24/06/23 17:17:13 WARN AdminClientConfig: The configuration 'max.poll.records' was supplied but isn't a known config.\n",
      "24/06/23 17:17:13 WARN AdminClientConfig: The configuration 'auto.offset.reset' was supplied but isn't a known config.\n",
      "24/06/23 17:17:14 WARN AdminClientConfig: The configuration 'key.deserializer' was supplied but isn't a known config.\n",
      "24/06/23 17:17:14 WARN AdminClientConfig: The configuration 'value.deserializer' was supplied but isn't a known config.\n",
      "24/06/23 17:17:14 WARN AdminClientConfig: The configuration 'enable.auto.commit' was supplied but isn't a known config.\n",
      "24/06/23 17:17:14 WARN AdminClientConfig: The configuration 'max.poll.records' was supplied but isn't a known config.\n",
      "24/06/23 17:17:14 WARN AdminClientConfig: The configuration 'auto.offset.reset' was supplied but isn't a known config.\n",
      "                                                                                \r"
     ]
    },
    {
     "name": "stdout",
     "output_type": "stream",
     "text": [
      "-------------------------------------------\n",
      "Batch: 0\n",
      "-------------------------------------------\n",
      "+------------+------+---------+----+----------+-------------------+---+-------+--------+--------+--------------+------------+--------------+-------+-------------+---------+\n",
      "|ImpressionID|UserID|SessionID|AdID|AdCategory|ImpressionTimestamp| OS|Browser|Location|Referrer|ImpressionCost|ImpressionID|ClickTimestamp|ClickID|ClickPosition|ClickCost|\n",
      "+------------+------+---------+----+----------+-------------------+---+-------+--------+--------+--------------+------------+--------------+-------+-------------+---------+\n",
      "+------------+------+---------+----+----------+-------------------+---+-------+--------+--------+--------------+------------+--------------+-------+-------------+---------+\n",
      "\n"
     ]
    },
    {
     "name": "stderr",
     "output_type": "stream",
     "text": [
      "                                                                                \r"
     ]
    },
    {
     "name": "stdout",
     "output_type": "stream",
     "text": [
      "-------------------------------------------\n",
      "Batch: 1\n",
      "-------------------------------------------\n",
      "+------------+------+---------+----+----------+--------------------+-----+-------+--------+--------+--------------+------------+--------------------+-------+-------------+----------+\n",
      "|ImpressionID|UserID|SessionID|AdID|AdCategory| ImpressionTimestamp|   OS|Browser|Location|Referrer|ImpressionCost|ImpressionID|      ClickTimestamp|ClickID|ClickPosition| ClickCost|\n",
      "+------------+------+---------+----+----------+--------------------+-----+-------+--------+--------+--------------+------------+--------------------+-------+-------------+----------+\n",
      "|           6|    70|       80|  22| Education|2024-06-23 17:17:...|Linux|   Edge|   India| Twitter|     1.3441609|           6|2024-06-23 17:17:...|      6|       Header| 1.2847403|\n",
      "|           5|    15|      135|  48|   Apparel|2024-06-23 17:17:...|macOS|Firefox|   China| Twitter|    0.02185926|           5|2024-06-23 17:17:...|      5|      Sidebar| 1.4586449|\n",
      "|          11|    27|      112|  37|  Services|2024-06-23 17:17:...|macOS| Safari| Germany| Twitter|    0.64435035|          11|2024-06-23 17:17:...|     11|      Sidebar|0.70775706|\n",
      "|           0|    94|      134|  36|  Services|2024-06-23 17:17:...|macOS|Firefox| Germany|  Google|     1.1927705|           0|2024-06-23 17:17:...|      0|        Popup| 0.8011001|\n",
      "+------------+------+---------+----+----------+--------------------+-----+-------+--------+--------+--------------+------------+--------------------+-------+-------------+----------+\n",
      "\n"
     ]
    },
    {
     "name": "stderr",
     "output_type": "stream",
     "text": [
      "                                                                                \r"
     ]
    },
    {
     "name": "stdout",
     "output_type": "stream",
     "text": [
      "-------------------------------------------\n",
      "Batch: 2\n",
      "-------------------------------------------\n",
      "+------------+------+---------+----+-------------+--------------------+-------+-------+---------+--------+--------------+------------+--------------------+-------+-------------+----------+\n",
      "|ImpressionID|UserID|SessionID|AdID|   AdCategory| ImpressionTimestamp|     OS|Browser| Location|Referrer|ImpressionCost|ImpressionID|      ClickTimestamp|ClickID|ClickPosition| ClickCost|\n",
      "+------------+------+---------+----+-------------+--------------------+-------+-------+---------+--------+--------------+------------+--------------------+-------+-------------+----------+\n",
      "|          20|     1|      106|   9|  Electronics|2024-06-23 17:17:...|    iOS|   Edge|   Canada|LinkedIn|    0.18715997|          20|2024-06-23 17:17:...|     20|        Popup| 1.9031632|\n",
      "|          19|    12|       97|  25|      Apparel|2024-06-23 17:17:...|  macOS|   Edge|  Germany| Twitter|   0.045695744|          19|2024-06-23 17:17:...|     19|       Banner|0.41726536|\n",
      "|          17|    34|      112|   1|       Health|2024-06-23 17:17:...|Windows|  Opera|   France|  Google|     1.3208338|          17|2024-06-23 17:17:...|     17|      Sidebar| 1.6991508|\n",
      "|          14|    52|      142|  24|Entertainment|2024-06-23 17:17:...|Windows|  Opera|Australia|  Google|     0.5674041|          14|2024-06-23 17:17:...|     14|       Footer|0.71785706|\n",
      "+------------+------+---------+----+-------------+--------------------+-------+-------+---------+--------+--------------+------------+--------------------+-------+-------------+----------+\n",
      "\n"
     ]
    },
    {
     "name": "stderr",
     "output_type": "stream",
     "text": [
      "                                                                                \r"
     ]
    },
    {
     "name": "stdout",
     "output_type": "stream",
     "text": [
      "-------------------------------------------\n",
      "Batch: 3\n",
      "-------------------------------------------\n",
      "+------------+------+---------+----+----------+--------------------+-------+-------+--------+--------+--------------+------------+--------------------+-------+-------------+----------+\n",
      "|ImpressionID|UserID|SessionID|AdID|AdCategory| ImpressionTimestamp|     OS|Browser|Location|Referrer|ImpressionCost|ImpressionID|      ClickTimestamp|ClickID|ClickPosition| ClickCost|\n",
      "+------------+------+---------+----+----------+--------------------+-------+-------+--------+--------+--------------+------------+--------------------+-------+-------------+----------+\n",
      "|          22|    24|      135|  36|   Apparel|2024-06-23 17:17:...|Android|Firefox|     USA|  Google|     1.1074119|          22|2024-06-23 17:17:...|     22|       Banner| 1.7552674|\n",
      "|          23|    93|      165|   2|  Services|2024-06-23 17:17:...|  Linux|Firefox|   China|  Google|     0.5467899|          23|2024-06-23 17:17:...|     23|       Header|0.26082274|\n",
      "|          25|    47|       14|  23| Education|2024-06-23 17:17:...|Windows| Chrome|  France|  Google|    0.09367133|          25|2024-06-23 17:17:...|     25|       Footer| 1.4641178|\n",
      "|          24|    69|      109|  39|  Services|2024-06-23 17:17:...|  macOS|  Opera|   India|LinkedIn|     1.3839059|          24|2024-06-23 17:17:...|     24|      Sidebar| 1.9539528|\n",
      "+------------+------+---------+----+----------+--------------------+-------+-------+--------+--------+--------------+------------+--------------------+-------+-------------+----------+\n",
      "\n"
     ]
    },
    {
     "name": "stderr",
     "output_type": "stream",
     "text": [
      "                                                                                \r"
     ]
    },
    {
     "name": "stdout",
     "output_type": "stream",
     "text": [
      "-------------------------------------------\n",
      "Batch: 4\n",
      "-------------------------------------------\n",
      "+------------+------+---------+----+-------------+--------------------+-----+-------+---------+--------+--------------+------------+--------------------+-------+-------------+----------+\n",
      "|ImpressionID|UserID|SessionID|AdID|   AdCategory| ImpressionTimestamp|   OS|Browser| Location|Referrer|ImpressionCost|ImpressionID|      ClickTimestamp|ClickID|ClickPosition| ClickCost|\n",
      "+------------+------+---------+----+-------------+--------------------+-----+-------+---------+--------+--------------+------------+--------------------+-------+-------------+----------+\n",
      "|          34|    81|       44|   6|  Electronics|2024-06-23 17:17:...|  iOS| Safari|    India|  Direct|     1.3139229|          34|2024-06-23 17:17:...|     34|       Footer|0.40902686|\n",
      "|          40|    43|      154|  15|    Education|2024-06-23 17:17:...|  iOS|  Opera|    Japan|LinkedIn|    0.32040474|          40|2024-06-23 17:18:...|     40|       Header| 1.8277829|\n",
      "|          41|    17|       69|   5|Entertainment|2024-06-23 17:17:...|macOS|   Edge|Australia|  Direct|   0.040127765|          41|2024-06-23 17:18:...|     41|        Popup|0.37777644|\n",
      "|          38|    41|      163|   6|     Services|2024-06-23 17:17:...|  iOS|  Opera|    India|  Google|     0.2694647|          38|2024-06-23 17:18:...|     38|       Footer|0.44490752|\n",
      "+------------+------+---------+----+-------------+--------------------+-----+-------+---------+--------+--------------+------------+--------------------+-------+-------------+----------+\n",
      "\n"
     ]
    },
    {
     "name": "stderr",
     "output_type": "stream",
     "text": [
      "                                                                                \r"
     ]
    },
    {
     "name": "stdout",
     "output_type": "stream",
     "text": [
      "-------------------------------------------\n",
      "Batch: 5\n",
      "-------------------------------------------\n",
      "+------------+------+---------+----+-----------+--------------------+-----+-------+---------+--------+--------------+------------+--------------------+-------+-------------+----------+\n",
      "|ImpressionID|UserID|SessionID|AdID| AdCategory| ImpressionTimestamp|   OS|Browser| Location|Referrer|ImpressionCost|ImpressionID|      ClickTimestamp|ClickID|ClickPosition| ClickCost|\n",
      "+------------+------+---------+----+-----------+--------------------+-----+-------+---------+--------+--------------+------------+--------------------+-------+-------------+----------+\n",
      "|          44|    36|       21|  14|  Education|2024-06-23 17:17:...|macOS| Chrome|    Spain|  Direct|     1.4070427|          44|2024-06-23 17:18:...|     44|      Sidebar| 1.4982115|\n",
      "|          43|    21|      186|   9|    Apparel|2024-06-23 17:17:...|Linux|   Edge|   France| Twitter|    0.20897835|          43|2024-06-23 17:18:...|     43|       Footer| 1.5940804|\n",
      "|          45|    36|       78|  15|Electronics|2024-06-23 17:17:...|macOS|  Opera|  Germany|  Google|    0.20819849|          45|2024-06-23 17:18:...|     45|        Popup| 1.9869654|\n",
      "|          42|    79|       51|  40|     Health|2024-06-23 17:17:...|macOS|  Opera|Australia|Facebook|     1.3637606|          42|2024-06-23 17:18:...|     42|      Sidebar|0.88508403|\n",
      "+------------+------+---------+----+-----------+--------------------+-----+-------+---------+--------+--------------+------------+--------------------+-------+-------------+----------+\n",
      "\n"
     ]
    },
    {
     "name": "stderr",
     "output_type": "stream",
     "text": [
      "                                                                                \r"
     ]
    },
    {
     "name": "stdout",
     "output_type": "stream",
     "text": [
      "-------------------------------------------\n",
      "Batch: 6\n",
      "-------------------------------------------\n",
      "+------------+------+---------+----+-----------+--------------------+-------+-------+--------+--------+--------------+------------+--------------------+-------+-------------+----------+\n",
      "|ImpressionID|UserID|SessionID|AdID| AdCategory| ImpressionTimestamp|     OS|Browser|Location|Referrer|ImpressionCost|ImpressionID|      ClickTimestamp|ClickID|ClickPosition| ClickCost|\n",
      "+------------+------+---------+----+-----------+--------------------+-------+-------+--------+--------+--------------+------------+--------------------+-------+-------------+----------+\n",
      "|          47|     5|      116|  16|     Health|2024-06-23 17:17:...|Windows| Chrome|   Spain|Facebook|     0.0700092|          47|2024-06-23 17:18:...|     47|       Banner|0.79309565|\n",
      "|          49|    26|       61|  46|     Health|2024-06-23 17:17:...|Windows|   Edge|   Japan| Twitter|     0.2849614|          49|2024-06-23 17:18:...|     49|       Banner| 1.6869744|\n",
      "|          62|    48|       14|  21|Electronics|2024-06-23 17:17:...|    iOS|   Edge| Germany|  Direct|    0.13948287|          62|2024-06-23 17:18:...|     62|        Popup|0.36733928|\n",
      "+------------+------+---------+----+-----------+--------------------+-------+-------+--------+--------+--------------+------------+--------------------+-------+-------------+----------+\n",
      "\n"
     ]
    },
    {
     "name": "stderr",
     "output_type": "stream",
     "text": [
      "                                                                                \r"
     ]
    },
    {
     "name": "stdout",
     "output_type": "stream",
     "text": [
      "-------------------------------------------\n",
      "Batch: 7\n",
      "-------------------------------------------\n",
      "+------------+------+---------+----+-----------+--------------------+-------+-------+--------+--------+--------------+------------+--------------------+-------+-------------+---------+\n",
      "|ImpressionID|UserID|SessionID|AdID| AdCategory| ImpressionTimestamp|     OS|Browser|Location|Referrer|ImpressionCost|ImpressionID|      ClickTimestamp|ClickID|ClickPosition|ClickCost|\n",
      "+------------+------+---------+----+-----------+--------------------+-------+-------+--------+--------+--------------+------------+--------------------+-------+-------------+---------+\n",
      "|          64|    50|       18|  30|     Health|2024-06-23 17:17:...|Android| Safari| Germany| Twitter|     0.0938817|          64|2024-06-23 17:18:...|     64|      Sidebar|0.6904131|\n",
      "|          69|    62|       19|  18|Electronics|2024-06-23 17:17:...|  macOS| Chrome|   Spain|Facebook|     0.3100324|          69|2024-06-23 17:18:...|     69|      Sidebar|1.3482318|\n",
      "|          70|    37|       59|  41|Electronics|2024-06-23 17:17:...|    iOS|  Opera|     USA|  Direct|     1.2594204|          70|2024-06-23 17:18:...|     70|       Footer|1.9066906|\n",
      "|          71|    84|       48|  34|   Services|2024-06-23 17:17:...|  Linux|  Opera|  France|Facebook|     0.3566779|          71|2024-06-23 17:18:...|     71|       Banner|0.9445686|\n",
      "+------------+------+---------+----+-----------+--------------------+-------+-------+--------+--------+--------------+------------+--------------------+-------+-------------+---------+\n",
      "\n"
     ]
    },
    {
     "name": "stderr",
     "output_type": "stream",
     "text": [
      "                                                                                \r"
     ]
    },
    {
     "name": "stdout",
     "output_type": "stream",
     "text": [
      "-------------------------------------------\n",
      "Batch: 8\n",
      "-------------------------------------------\n",
      "+------------+------+---------+----+-------------+--------------------+-------+-------+--------+--------+--------------+------------+--------------------+-------+-------------+----------+\n",
      "|ImpressionID|UserID|SessionID|AdID|   AdCategory| ImpressionTimestamp|     OS|Browser|Location|Referrer|ImpressionCost|ImpressionID|      ClickTimestamp|ClickID|ClickPosition| ClickCost|\n",
      "+------------+------+---------+----+-------------+--------------------+-------+-------+--------+--------+--------------+------------+--------------------+-------+-------------+----------+\n",
      "|          78|    96|      142|  39|    Education|2024-06-23 17:17:...|Android|   Edge|     USA|  Google|     0.8079009|          78|2024-06-23 17:18:...|     78|        Popup| 1.7536601|\n",
      "|          79|    85|       69|  15|Entertainment|2024-06-23 17:17:...|  macOS|  Opera| Germany|  Direct|     0.5387306|          79|2024-06-23 17:18:...|     79|        Popup|  1.040496|\n",
      "|          74|    84|      109|  36|  Electronics|2024-06-23 17:17:...|Windows|   Edge|  France| Twitter|      1.139099|          74|2024-06-23 17:18:...|     74|       Footer|0.42502314|\n",
      "+------------+------+---------+----+-------------+--------------------+-------+-------+--------+--------+--------------+------------+--------------------+-------+-------------+----------+\n",
      "\n"
     ]
    },
    {
     "name": "stderr",
     "output_type": "stream",
     "text": [
      "                                                                                \r"
     ]
    },
    {
     "name": "stdout",
     "output_type": "stream",
     "text": [
      "-------------------------------------------\n",
      "Batch: 9\n",
      "-------------------------------------------\n",
      "+------------+------+---------+----+----------+-------------------+---+-------+--------+--------+--------------+------------+--------------+-------+-------------+---------+\n",
      "|ImpressionID|UserID|SessionID|AdID|AdCategory|ImpressionTimestamp| OS|Browser|Location|Referrer|ImpressionCost|ImpressionID|ClickTimestamp|ClickID|ClickPosition|ClickCost|\n",
      "+------------+------+---------+----+----------+-------------------+---+-------+--------+--------+--------------+------------+--------------+-------+-------------+---------+\n",
      "+------------+------+---------+----+----------+-------------------+---+-------+--------+--------+--------------+------------+--------------+-------+-------------+---------+\n",
      "\n"
     ]
    },
    {
     "name": "stderr",
     "output_type": "stream",
     "text": [
      "                                                                                \r"
     ]
    },
    {
     "name": "stdout",
     "output_type": "stream",
     "text": [
      "-------------------------------------------\n",
      "Batch: 10\n",
      "-------------------------------------------\n",
      "+------------+------+---------+----+----------+-------------------+---+-------+--------+--------+--------------+------------+--------------+-------+-------------+---------+\n",
      "|ImpressionID|UserID|SessionID|AdID|AdCategory|ImpressionTimestamp| OS|Browser|Location|Referrer|ImpressionCost|ImpressionID|ClickTimestamp|ClickID|ClickPosition|ClickCost|\n",
      "+------------+------+---------+----+----------+-------------------+---+-------+--------+--------+--------------+------------+--------------+-------+-------------+---------+\n",
      "+------------+------+---------+----+----------+-------------------+---+-------+--------+--------+--------------+------------+--------------+-------+-------------+---------+\n",
      "\n"
     ]
    },
    {
     "name": "stderr",
     "output_type": "stream",
     "text": [
      "                                                                                \r"
     ]
    },
    {
     "name": "stdout",
     "output_type": "stream",
     "text": [
      "-------------------------------------------\n",
      "Batch: 11\n",
      "-------------------------------------------\n",
      "+------------+------+---------+----+----------+-------------------+---+-------+--------+--------+--------------+------------+--------------+-------+-------------+---------+\n",
      "|ImpressionID|UserID|SessionID|AdID|AdCategory|ImpressionTimestamp| OS|Browser|Location|Referrer|ImpressionCost|ImpressionID|ClickTimestamp|ClickID|ClickPosition|ClickCost|\n",
      "+------------+------+---------+----+----------+-------------------+---+-------+--------+--------+--------------+------------+--------------+-------+-------------+---------+\n",
      "+------------+------+---------+----+----------+-------------------+---+-------+--------+--------+--------------+------------+--------------+-------+-------------+---------+\n",
      "\n"
     ]
    },
    {
     "name": "stderr",
     "output_type": "stream",
     "text": [
      "                                                                                \r"
     ]
    },
    {
     "name": "stdout",
     "output_type": "stream",
     "text": [
      "-------------------------------------------\n",
      "Batch: 12\n",
      "-------------------------------------------\n",
      "+------------+------+---------+----+----------+-------------------+---+-------+--------+--------+--------------+------------+--------------+-------+-------------+---------+\n",
      "|ImpressionID|UserID|SessionID|AdID|AdCategory|ImpressionTimestamp| OS|Browser|Location|Referrer|ImpressionCost|ImpressionID|ClickTimestamp|ClickID|ClickPosition|ClickCost|\n",
      "+------------+------+---------+----+----------+-------------------+---+-------+--------+--------+--------------+------------+--------------+-------+-------------+---------+\n",
      "+------------+------+---------+----+----------+-------------------+---+-------+--------+--------+--------------+------------+--------------+-------+-------------+---------+\n",
      "\n"
     ]
    },
    {
     "name": "stderr",
     "output_type": "stream",
     "text": [
      "                                                                                \r"
     ]
    },
    {
     "name": "stdout",
     "output_type": "stream",
     "text": [
      "-------------------------------------------\n",
      "Batch: 13\n",
      "-------------------------------------------\n",
      "+------------+------+---------+----+----------+-------------------+---+-------+--------+--------+--------------+------------+--------------+-------+-------------+---------+\n",
      "|ImpressionID|UserID|SessionID|AdID|AdCategory|ImpressionTimestamp| OS|Browser|Location|Referrer|ImpressionCost|ImpressionID|ClickTimestamp|ClickID|ClickPosition|ClickCost|\n",
      "+------------+------+---------+----+----------+-------------------+---+-------+--------+--------+--------------+------------+--------------+-------+-------------+---------+\n",
      "+------------+------+---------+----+----------+-------------------+---+-------+--------+--------+--------------+------------+--------------+-------+-------------+---------+\n",
      "\n"
     ]
    },
    {
     "name": "stderr",
     "output_type": "stream",
     "text": [
      "                                                                                \r"
     ]
    },
    {
     "name": "stdout",
     "output_type": "stream",
     "text": [
      "-------------------------------------------\n",
      "Batch: 14\n",
      "-------------------------------------------\n",
      "+------------+------+---------+----+----------+-------------------+---+-------+--------+--------+--------------+------------+--------------+-------+-------------+---------+\n",
      "|ImpressionID|UserID|SessionID|AdID|AdCategory|ImpressionTimestamp| OS|Browser|Location|Referrer|ImpressionCost|ImpressionID|ClickTimestamp|ClickID|ClickPosition|ClickCost|\n",
      "+------------+------+---------+----+----------+-------------------+---+-------+--------+--------+--------------+------------+--------------+-------+-------------+---------+\n",
      "+------------+------+---------+----+----------+-------------------+---+-------+--------+--------+--------------+------------+--------------+-------+-------------+---------+\n",
      "\n"
     ]
    },
    {
     "name": "stderr",
     "output_type": "stream",
     "text": [
      "                                                                                \r"
     ]
    },
    {
     "name": "stdout",
     "output_type": "stream",
     "text": [
      "-------------------------------------------\n",
      "Batch: 15\n",
      "-------------------------------------------\n",
      "+------------+------+---------+----+----------+-------------------+---+-------+--------+--------+--------------+------------+--------------+-------+-------------+---------+\n",
      "|ImpressionID|UserID|SessionID|AdID|AdCategory|ImpressionTimestamp| OS|Browser|Location|Referrer|ImpressionCost|ImpressionID|ClickTimestamp|ClickID|ClickPosition|ClickCost|\n",
      "+------------+------+---------+----+----------+-------------------+---+-------+--------+--------+--------------+------------+--------------+-------+-------------+---------+\n",
      "+------------+------+---------+----+----------+-------------------+---+-------+--------+--------+--------------+------------+--------------+-------+-------------+---------+\n",
      "\n"
     ]
    },
    {
     "name": "stderr",
     "output_type": "stream",
     "text": [
      "                                                                                \r"
     ]
    },
    {
     "name": "stdout",
     "output_type": "stream",
     "text": [
      "-------------------------------------------\n",
      "Batch: 16\n",
      "-------------------------------------------\n",
      "+------------+------+---------+----+-------------+--------------------+-------+-------+--------+--------+--------------+------------+--------------------+-------+-------------+----------+\n",
      "|ImpressionID|UserID|SessionID|AdID|   AdCategory| ImpressionTimestamp|     OS|Browser|Location|Referrer|ImpressionCost|ImpressionID|      ClickTimestamp|ClickID|ClickPosition| ClickCost|\n",
      "+------------+------+---------+----+-------------+--------------------+-------+-------+--------+--------+--------------+------------+--------------------+-------+-------------+----------+\n",
      "|          93|    94|      188|  11|     Services|2024-06-23 17:17:...|Windows|  Opera| Germany|  Google|      1.329829|        NULL|                NULL|   NULL|         NULL|      NULL|\n",
      "|          94|    28|       36|  26|    Education|2024-06-23 17:17:...|    iOS| Safari| Germany|  Direct|    0.35707483|        NULL|                NULL|   NULL|         NULL|      NULL|\n",
      "|          87|    34|       55|  50|    Education|2024-06-23 17:17:...|Windows| Safari|   China|Facebook|     0.8828792|        NULL|                NULL|   NULL|         NULL|      NULL|\n",
      "|        NULL|  NULL|     NULL|NULL|         NULL|                NULL|   NULL|   NULL|    NULL|    NULL|          NULL|          87|2024-06-23 17:18:...|     87|       Header|  1.886605|\n",
      "|          90|    25|      121|  16|Entertainment|2024-06-23 17:17:...|Windows| Chrome|      UK|Facebook|     0.8736962|        NULL|                NULL|   NULL|         NULL|      NULL|\n",
      "|          83|    97|      103|  26|    Education|2024-06-23 17:17:...|    iOS|   Edge|  Canada|  Google|    0.37127125|        NULL|                NULL|   NULL|         NULL|      NULL|\n",
      "|        NULL|  NULL|     NULL|NULL|         NULL|                NULL|   NULL|   NULL|    NULL|    NULL|          NULL|          83|2024-06-23 17:18:...|     83|      Sidebar|0.58148247|\n",
      "+------------+------+---------+----+-------------+--------------------+-------+-------+--------+--------+--------------+------------+--------------------+-------+-------------+----------+\n",
      "\n"
     ]
    },
    {
     "name": "stderr",
     "output_type": "stream",
     "text": [
      "                                                                                \r"
     ]
    },
    {
     "name": "stdout",
     "output_type": "stream",
     "text": [
      "-------------------------------------------\n",
      "Batch: 17\n",
      "-------------------------------------------\n",
      "+------------+------+---------+----+-----------+--------------------+-------+-------+---------+--------+--------------+------------+--------------------+-------+-------------+----------+\n",
      "|ImpressionID|UserID|SessionID|AdID| AdCategory| ImpressionTimestamp|     OS|Browser| Location|Referrer|ImpressionCost|ImpressionID|      ClickTimestamp|ClickID|ClickPosition| ClickCost|\n",
      "+------------+------+---------+----+-----------+--------------------+-------+-------+---------+--------+--------------+------------+--------------------+-------+-------------+----------+\n",
      "|         115|    77|       88|  45|  Education|2024-06-23 17:18:...|  macOS|Firefox|    Japan|  Direct|      1.236103|        NULL|                NULL|   NULL|         NULL|      NULL|\n",
      "|        NULL|  NULL|     NULL|NULL|       NULL|                NULL|   NULL|   NULL|     NULL|    NULL|          NULL|          93|2024-06-23 17:19:...|     93|        Popup| 1.9763546|\n",
      "|         111|    72|       66|  13|  Education|2024-06-23 17:18:...|Windows|   Edge|Australia|Facebook|     0.4583996|        NULL|                NULL|   NULL|         NULL|      NULL|\n",
      "|        NULL|  NULL|     NULL|NULL|       NULL|                NULL|   NULL|   NULL|     NULL|    NULL|          NULL|          94|2024-06-23 17:19:...|     94|       Banner|  1.531526|\n",
      "|         112|    10|      178|  23|Electronics|2024-06-23 17:18:...|Android| Chrome|    Spain| Twitter|   0.053493757|        NULL|                NULL|   NULL|         NULL|      NULL|\n",
      "|         107|    34|        7|  22|  Education|2024-06-23 17:17:...|  macOS|Firefox|    Japan| Twitter|    0.93372196|        NULL|                NULL|   NULL|         NULL|      NULL|\n",
      "|         102|    81|      124|  35|    Apparel|2024-06-23 17:17:...|  Linux| Safari|      USA|LinkedIn|    0.43647382|        NULL|                NULL|   NULL|         NULL|      NULL|\n",
      "|         113|    37|       63|  18|     Health|2024-06-23 17:18:...|Android|   Edge|Australia|LinkedIn|    0.13454998|        NULL|                NULL|   NULL|         NULL|      NULL|\n",
      "|          95|    90|       39|  43|    Apparel|2024-06-23 17:17:...|  macOS|Firefox|    China|LinkedIn|     0.8705577|        NULL|                NULL|   NULL|         NULL|      NULL|\n",
      "|        NULL|  NULL|     NULL|NULL|       NULL|                NULL|   NULL|   NULL|     NULL|    NULL|          NULL|          90|2024-06-23 17:18:...|     90|       Footer|0.92291594|\n",
      "|         109|     3|       13|  42|  Education|2024-06-23 17:18:...|  Linux| Safari|  Germany|LinkedIn|     0.4260531|        NULL|                NULL|   NULL|         NULL|      NULL|\n",
      "|         105|    88|      195|  24|Electronics|2024-06-23 17:17:...|  macOS| Safari|       UK|Facebook|      1.038699|        NULL|                NULL|   NULL|         NULL|      NULL|\n",
      "|         119|    68|      127|  14|Electronics|2024-06-23 17:18:...|  Linux| Safari|    Spain|  Direct|     1.2500383|        NULL|                NULL|   NULL|         NULL|      NULL|\n",
      "|         104|    65|      169|  15|Electronics|2024-06-23 17:17:...|  Linux| Chrome|       UK|  Google|     1.4767636|        NULL|                NULL|   NULL|         NULL|      NULL|\n",
      "+------------+------+---------+----+-----------+--------------------+-------+-------+---------+--------+--------------+------------+--------------------+-------+-------------+----------+\n",
      "\n"
     ]
    },
    {
     "name": "stderr",
     "output_type": "stream",
     "text": [
      "                                                                                \r"
     ]
    },
    {
     "name": "stdout",
     "output_type": "stream",
     "text": [
      "-------------------------------------------\n",
      "Batch: 18\n",
      "-------------------------------------------\n",
      "+------------+------+---------+----+-------------+--------------------+-------+-------+---------+--------+--------------+------------+--------------------+-------+-------------+----------+\n",
      "|ImpressionID|UserID|SessionID|AdID|   AdCategory| ImpressionTimestamp|     OS|Browser| Location|Referrer|ImpressionCost|ImpressionID|      ClickTimestamp|ClickID|ClickPosition| ClickCost|\n",
      "+------------+------+---------+----+-------------+--------------------+-------+-------+---------+--------+--------------+------------+--------------------+-------+-------------+----------+\n",
      "|         133|    31|       11|  32|    Education|2024-06-23 17:18:...|Android| Safari|      USA| Twitter|    0.02296535|        NULL|                NULL|   NULL|         NULL|      NULL|\n",
      "|         126|    10|      186|   4|      Apparel|2024-06-23 17:18:...|  Linux|   Edge|    China|Facebook|     0.8664443|        NULL|                NULL|   NULL|         NULL|      NULL|\n",
      "|         128|    73|       81|   3|Entertainment|2024-06-23 17:18:...|  macOS|   Edge|   France|Facebook|     0.5035873|        NULL|                NULL|   NULL|         NULL|      NULL|\n",
      "|         122|    87|       13|   4|  Electronics|2024-06-23 17:18:...|  Linux| Chrome|Australia|  Google|    0.22587584|        NULL|                NULL|   NULL|         NULL|      NULL|\n",
      "|         140|    22|       10|  10|    Education|2024-06-23 17:18:...|  Linux|  Opera|       UK|Facebook|      1.487884|        NULL|                NULL|   NULL|         NULL|      NULL|\n",
      "|        NULL|  NULL|     NULL|NULL|         NULL|                NULL|   NULL|   NULL|     NULL|    NULL|          NULL|         102|2024-06-23 17:19:...|    102|       Header| 0.8640606|\n",
      "|         125|    90|      189|  23|       Health|2024-06-23 17:18:...|  macOS| Safari|    Spain|LinkedIn|     1.3427035|        NULL|                NULL|   NULL|         NULL|      NULL|\n",
      "|         121|    30|      160|  21|    Education|2024-06-23 17:18:...|  Linux|  Opera|    India| Twitter|     0.4901374|        NULL|                NULL|   NULL|         NULL|      NULL|\n",
      "|        NULL|  NULL|     NULL|NULL|         NULL|                NULL|   NULL|   NULL|     NULL|    NULL|          NULL|          95|2024-06-23 17:19:...|     95|       Banner| 0.8563731|\n",
      "|        NULL|  NULL|     NULL|NULL|         NULL|                NULL|   NULL|   NULL|     NULL|    NULL|          NULL|         105|2024-06-23 17:19:...|    105|       Banner|0.02010362|\n",
      "|         135|    50|      106|  19|       Health|2024-06-23 17:18:...|Windows|   Edge|    India| Twitter|     1.2259129|        NULL|                NULL|   NULL|         NULL|      NULL|\n",
      "|        NULL|  NULL|     NULL|NULL|         NULL|                NULL|   NULL|   NULL|     NULL|    NULL|          NULL|         104|2024-06-23 17:19:...|    104|       Header| 1.7509466|\n",
      "|         134|    86|      156|  34|     Services|2024-06-23 17:18:...|  macOS|  Opera|  Germany| Twitter|    0.08907452|        NULL|                NULL|   NULL|         NULL|      NULL|\n",
      "+------------+------+---------+----+-------------+--------------------+-------+-------+---------+--------+--------------+------------+--------------------+-------+-------------+----------+\n",
      "\n"
     ]
    },
    {
     "name": "stderr",
     "output_type": "stream",
     "text": [
      "                                                                                \r"
     ]
    },
    {
     "name": "stdout",
     "output_type": "stream",
     "text": [
      "-------------------------------------------\n",
      "Batch: 19\n",
      "-------------------------------------------\n",
      "+------------+------+---------+----+-------------+--------------------+-------+-------+--------+--------+--------------+------------+--------------------+-------+-------------+---------+\n",
      "|ImpressionID|UserID|SessionID|AdID|   AdCategory| ImpressionTimestamp|     OS|Browser|Location|Referrer|ImpressionCost|ImpressionID|      ClickTimestamp|ClickID|ClickPosition|ClickCost|\n",
      "+------------+------+---------+----+-------------+--------------------+-------+-------+--------+--------+--------------+------------+--------------------+-------+-------------+---------+\n",
      "|         155|    17|      183|  17|     Services|2024-06-23 17:18:...|  macOS| Safari|     USA|  Direct|    0.72584283|        NULL|                NULL|   NULL|         NULL|     NULL|\n",
      "|         157|    17|       20|   5|       Health|2024-06-23 17:18:...|Windows|   Edge|   Japan|  Google|    0.35645807|        NULL|                NULL|   NULL|         NULL|     NULL|\n",
      "|        NULL|  NULL|     NULL|NULL|         NULL|                NULL|   NULL|   NULL|    NULL|    NULL|          NULL|         111|2024-06-23 17:19:...|    111|      Sidebar|1.1979694|\n",
      "|         152|    72|      181|  12|      Apparel|2024-06-23 17:18:...|    iOS|  Opera|   Japan|LinkedIn|    0.74231005|        NULL|                NULL|   NULL|         NULL|     NULL|\n",
      "|         146|    32|       18|  32|       Health|2024-06-23 17:18:...|    iOS|  Opera| Germany|LinkedIn|     1.0992615|        NULL|                NULL|   NULL|         NULL|     NULL|\n",
      "|         142|    69|      144|  15|      Apparel|2024-06-23 17:18:...|Windows|  Opera|   China|  Direct|    0.50336015|        NULL|                NULL|   NULL|         NULL|     NULL|\n",
      "|        NULL|  NULL|     NULL|NULL|         NULL|                NULL|   NULL|   NULL|    NULL|    NULL|          NULL|         107|2024-06-23 17:19:...|    107|       Banner|0.2217707|\n",
      "|         161|    58|      187|  31|      Apparel|2024-06-23 17:18:...|  Linux|   Edge|      UK| Twitter|     0.6073449|        NULL|                NULL|   NULL|         NULL|     NULL|\n",
      "|         166|    20|       93|  48|      Apparel|2024-06-23 17:18:...|    iOS| Safari|      UK|LinkedIn|    0.18891561|        NULL|                NULL|   NULL|         NULL|     NULL|\n",
      "|        NULL|  NULL|     NULL|NULL|         NULL|                NULL|   NULL|   NULL|    NULL|    NULL|          NULL|         109|2024-06-23 17:19:...|    109|       Banner|1.9013238|\n",
      "|         158|    54|      103|  34|Entertainment|2024-06-23 17:18:...|Windows|   Edge|     USA|  Google|     1.2525288|        NULL|                NULL|   NULL|         NULL|     NULL|\n",
      "|         149|    42|       97|  15|Entertainment|2024-06-23 17:18:...|  macOS|   Edge| Germany|LinkedIn|   0.070448115|        NULL|                NULL|   NULL|         NULL|     NULL|\n",
      "+------------+------+---------+----+-------------+--------------------+-------+-------+--------+--------+--------------+------------+--------------------+-------+-------------+---------+\n",
      "\n"
     ]
    },
    {
     "name": "stderr",
     "output_type": "stream",
     "text": [
      "                                                                                \r"
     ]
    },
    {
     "name": "stdout",
     "output_type": "stream",
     "text": [
      "-------------------------------------------\n",
      "Batch: 20\n",
      "-------------------------------------------\n",
      "+------------+------+---------+----+-------------+--------------------+-------+-------+--------+--------+--------------+------------+--------------------+-------+-------------+---------+\n",
      "|ImpressionID|UserID|SessionID|AdID|   AdCategory| ImpressionTimestamp|     OS|Browser|Location|Referrer|ImpressionCost|ImpressionID|      ClickTimestamp|ClickID|ClickPosition|ClickCost|\n",
      "+------------+------+---------+----+-------------+--------------------+-------+-------+--------+--------+--------------+------------+--------------------+-------+-------------+---------+\n",
      "|        NULL|  NULL|     NULL|NULL|         NULL|                NULL|   NULL|   NULL|    NULL|    NULL|          NULL|         115|2024-06-23 17:19:...|    115|       Header|0.1268125|\n",
      "|         168|    75|      147|  37|    Education|2024-06-23 17:18:...|  macOS|   Edge|   Japan|  Direct|   0.053794757|        NULL|                NULL|   NULL|         NULL|     NULL|\n",
      "|         178|   100|       38|   8|  Electronics|2024-06-23 17:18:...|Windows| Safari|  France|Facebook|     0.5738773|        NULL|                NULL|   NULL|         NULL|     NULL|\n",
      "|         169|    46|      133|  44|  Electronics|2024-06-23 17:18:...|  macOS|Firefox|   Spain|  Google|     1.0064179|        NULL|                NULL|   NULL|         NULL|     NULL|\n",
      "|        NULL|  NULL|     NULL|NULL|         NULL|                NULL|   NULL|   NULL|    NULL|    NULL|          NULL|         112|2024-06-23 17:19:...|    112|       Footer|0.6021899|\n",
      "|         179|    32|        3|  16|Entertainment|2024-06-23 17:18:...|  macOS|  Opera|      UK|  Google|    0.90238506|        NULL|                NULL|   NULL|         NULL|     NULL|\n",
      "|         175|    83|      103|  20|  Electronics|2024-06-23 17:18:...|Windows| Chrome|     USA|  Google|        0.9574|        NULL|                NULL|   NULL|         NULL|     NULL|\n",
      "|         173|    62|        7|  36|  Electronics|2024-06-23 17:18:...|    iOS|Firefox|  Canada|  Google|    0.77932245|        NULL|                NULL|   NULL|         NULL|     NULL|\n",
      "|         176|    45|       64|  32|  Electronics|2024-06-23 17:18:...|  macOS| Safari|   India|Facebook|     0.2518472|        NULL|                NULL|   NULL|         NULL|     NULL|\n",
      "|        NULL|  NULL|     NULL|NULL|         NULL|                NULL|   NULL|   NULL|    NULL|    NULL|          NULL|         113|2024-06-23 17:19:...|    113|       Header|1.3699096|\n",
      "|         170|    53|       20|  50|Entertainment|2024-06-23 17:18:...|  Linux| Chrome|      UK| Twitter|    0.54721355|        NULL|                NULL|   NULL|         NULL|     NULL|\n",
      "|         180|    38|        2|  13|       Health|2024-06-23 17:18:...|  Linux|Firefox| Germany| Twitter|    0.28790155|        NULL|                NULL|   NULL|         NULL|     NULL|\n",
      "+------------+------+---------+----+-------------+--------------------+-------+-------+--------+--------+--------------+------------+--------------------+-------+-------------+---------+\n",
      "\n"
     ]
    },
    {
     "name": "stderr",
     "output_type": "stream",
     "text": [
      "                                                                                \r"
     ]
    },
    {
     "name": "stdout",
     "output_type": "stream",
     "text": [
      "-------------------------------------------\n",
      "Batch: 21\n",
      "-------------------------------------------\n",
      "+------------+------+---------+----+-----------+--------------------+-------+-------+---------+--------+--------------+------------+--------------------+-------+-------------+---------+\n",
      "|ImpressionID|UserID|SessionID|AdID| AdCategory| ImpressionTimestamp|     OS|Browser| Location|Referrer|ImpressionCost|ImpressionID|      ClickTimestamp|ClickID|ClickPosition|ClickCost|\n",
      "+------------+------+---------+----+-----------+--------------------+-------+-------+---------+--------+--------------+------------+--------------------+-------+-------------+---------+\n",
      "|         183|    53|      176|  39|  Education|2024-06-23 17:18:...|    iOS| Chrome|       UK|  Direct|     0.8720104|        NULL|                NULL|   NULL|         NULL|     NULL|\n",
      "|         192|     9|       35|  24|     Health|2024-06-23 17:18:...|  Linux|   Edge|  Germany|  Direct|     1.0607641|        NULL|                NULL|   NULL|         NULL|     NULL|\n",
      "|        NULL|  NULL|     NULL|NULL|       NULL|                NULL|   NULL|   NULL|     NULL|    NULL|          NULL|         122|2024-06-23 17:19:...|    122|      Sidebar|1.2757304|\n",
      "|         190|    50|       68|  15|Electronics|2024-06-23 17:18:...|    iOS|Firefox|Australia|  Direct|     1.2864344|        NULL|                NULL|   NULL|         NULL|     NULL|\n",
      "|         189|    57|      104|   8|Electronics|2024-06-23 17:18:...|Android| Chrome|Australia| Twitter|     1.0667129|        NULL|                NULL|   NULL|         NULL|     NULL|\n",
      "|         194|    81|      133|   3|   Services|2024-06-23 17:18:...|  Linux|   Edge|Australia|LinkedIn|    0.67578226|        NULL|                NULL|   NULL|         NULL|     NULL|\n",
      "|         181|    20|      196|  17|    Apparel|2024-06-23 17:18:...|  Linux|  Opera|      USA|Facebook|    0.17620637|        NULL|                NULL|   NULL|         NULL|     NULL|\n",
      "|        NULL|  NULL|     NULL|NULL|       NULL|                NULL|   NULL|   NULL|     NULL|    NULL|          NULL|         121|2024-06-23 17:19:...|    121|       Banner|1.3044099|\n",
      "|         188|    82|      187|  16|    Apparel|2024-06-23 17:18:...|  macOS| Chrome|    China| Twitter|   0.077186644|        NULL|                NULL|   NULL|         NULL|     NULL|\n",
      "|        NULL|  NULL|     NULL|NULL|       NULL|                NULL|   NULL|   NULL|     NULL|    NULL|          NULL|         119|2024-06-23 17:19:...|    119|       Header|0.3753063|\n",
      "|         186|    69|       99|  31|Electronics|2024-06-23 17:18:...|    iOS| Safari|       UK|Facebook|     0.8064752|        NULL|                NULL|   NULL|         NULL|     NULL|\n",
      "|         187|    47|       59|  34|   Services|2024-06-23 17:18:...|Windows|   Edge|    Spain|  Direct|      0.535197|        NULL|                NULL|   NULL|         NULL|     NULL|\n",
      "+------------+------+---------+----+-----------+--------------------+-------+-------+---------+--------+--------------+------------+--------------------+-------+-------------+---------+\n",
      "\n"
     ]
    }
   ],
   "source": [
    "# postgresql_stream=raw_df.writeStream \\\n",
    "#     .foreachBatch(write_to_postgresql) \\\n",
    "#     .start() \\\n",
    "#     .awaitTermination()"
   ]
  },
  {
   "cell_type": "code",
   "execution_count": null,
   "metadata": {},
   "outputs": [],
   "source": []
  }
 ],
 "metadata": {
  "kernelspec": {
   "display_name": "kafka-spark-env",
   "language": "python",
   "name": "python3"
  },
  "language_info": {
   "codemirror_mode": {
    "name": "ipython",
    "version": 3
   },
   "file_extension": ".py",
   "mimetype": "text/x-python",
   "name": "python",
   "nbconvert_exporter": "python",
   "pygments_lexer": "ipython3",
   "version": "3.10.12"
  }
 },
 "nbformat": 4,
 "nbformat_minor": 2
}
